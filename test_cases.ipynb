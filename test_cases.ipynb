{
 "cells": [
  {
   "cell_type": "code",
   "execution_count": 3,
   "metadata": {},
   "outputs": [
    {
     "name": "stdout",
     "output_type": "stream",
     "text": [
      "\n",
      "✅ Accuracy: 7/9 = 77.78%\n",
      "\n",
      "❌ 2 misclassifications:\n",
      "  Line 1: Expected True, Got False\n",
      "    Snippet: public class T01 {\n",
      "    public static void main(String[] args) {\n",
      "        for (int i = 0; i < 5; i++) ...\n",
      "  Line 6: Expected True, Got False\n",
      "    Snippet: public class Level1 {\n",
      "    public static void main(String[] args) {\n",
      "        // menampilkan sesuatu ke...\n"
     ]
    }
   ],
   "source": [
    "import json\n",
    "import requests\n",
    "\n",
    "API_URL = \"http://localhost:8000/check-plagiarism\"\n",
    "TEST_FILE = \"test_cases.jsonl\"\n",
    "\n",
    "correct = 0\n",
    "total = 0\n",
    "failures = []\n",
    "\n",
    "with open(TEST_FILE, \"r\") as f:\n",
    "    for idx, line in enumerate(f, 1):\n",
    "        entry = json.loads(line)\n",
    "        payload = {\n",
    "            \"code\": entry[\"code\"],\n",
    "            \"top_k\": entry.get(\"top_k\", 10)\n",
    "        }\n",
    "\n",
    "        try:\n",
    "            response = requests.post(API_URL, json=payload)\n",
    "            result = response.json()\n",
    "\n",
    "            predicted = result.get(\"plagiarism_detected\", False)\n",
    "            expected = entry[\"expected\"]\n",
    "            total += 1\n",
    "\n",
    "            if predicted == expected:\n",
    "                correct += 1\n",
    "            else:\n",
    "                failures.append({\n",
    "                    \"index\": idx,\n",
    "                    \"expected\": expected,\n",
    "                    \"predicted\": predicted,\n",
    "                    \"code_snippet\": entry[\"code\"][:100] + \"...\"\n",
    "                })\n",
    "\n",
    "        except Exception as e:\n",
    "            print(f\"❌ Request error on entry {idx}: {e}\")\n",
    "            total += 1\n",
    "\n",
    "# 📊 Output\n",
    "accuracy = round((correct / total) * 100, 2)\n",
    "print(f\"\\n✅ Accuracy: {correct}/{total} = {accuracy}%\")\n",
    "\n",
    "if failures:\n",
    "    print(f\"\\n❌ {len(failures)} misclassifications:\")\n",
    "    for fail in failures:\n",
    "        print(f\"  Line {fail['index']}: Expected {fail['expected']}, Got {fail['predicted']}\")\n",
    "        print(f\"    Snippet: {fail['code_snippet']}\")\n"
   ]
  },
  {
   "cell_type": "code",
   "execution_count": 2,
   "metadata": {},
   "outputs": [
    {
     "name": "stdout",
     "output_type": "stream",
     "text": [
      "9 lines loaded\n"
     ]
    }
   ],
   "source": [
    "with open(\"test_cases.jsonl\") as f:\n",
    "    lines = f.readlines()\n",
    "print(f\"{len(lines)} lines loaded\")\n"
   ]
  },
  {
   "cell_type": "code",
   "execution_count": null,
   "metadata": {},
   "outputs": [],
   "source": []
  }
 ],
 "metadata": {
  "kernelspec": {
   "display_name": ".venv",
   "language": "python",
   "name": "python3"
  },
  "language_info": {
   "codemirror_mode": {
    "name": "ipython",
    "version": 3
   },
   "file_extension": ".py",
   "mimetype": "text/x-python",
   "name": "python",
   "nbconvert_exporter": "python",
   "pygments_lexer": "ipython3",
   "version": "3.12.4"
  }
 },
 "nbformat": 4,
 "nbformat_minor": 2
}
